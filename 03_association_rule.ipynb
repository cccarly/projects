{
 "cells": [
  {
   "cell_type": "code",
   "execution_count": 1,
   "metadata": {},
   "outputs": [],
   "source": [
    "import pandas as pd\n",
    "from mlxtend.frequent_patterns import apriori\n",
    "from mlxtend.frequent_patterns import association_rules"
   ]
  },
  {
   "cell_type": "code",
   "execution_count": 3,
   "metadata": {},
   "outputs": [],
   "source": [
    "### import data \n",
    "df_base = pd.read_csv(\"03_association_rule-HR-Employee-Attrition.csv\")\n"
   ]
  },
  {
   "cell_type": "code",
   "execution_count": 64,
   "metadata": {},
   "outputs": [
    {
     "name": "stdout",
     "output_type": "stream",
     "text": [
      "Index(['Age', 'Attrition', 'BusinessTravel', 'DailyRate', 'Department',\n",
      "       'DistanceFromHome', 'Education', 'EducationField', 'EmployeeCount',\n",
      "       'EmployeeNumber', 'EnvironmentSatisfaction', 'Gender', 'HourlyRate',\n",
      "       'JobInvolvement', 'JobLevel', 'JobRole', 'JobSatisfaction',\n",
      "       'MaritalStatus', 'MonthlyIncome', 'MonthlyRate', 'NumCompaniesWorked',\n",
      "       'Over18', 'OverTime', 'PercentSalaryHike', 'PerformanceRating',\n",
      "       'RelationshipSatisfaction', 'StandardHours', 'StockOptionLevel',\n",
      "       'TotalWorkingYears', 'TrainingTimesLastYear', 'WorkLifeBalance',\n",
      "       'YearsAtCompany', 'YearsInCurrentRole', 'YearsSinceLastPromotion',\n",
      "       'YearsWithCurrManager'],\n",
      "      dtype='object')\n",
      "count    1470.000000\n",
      "mean       65.891156\n",
      "std        20.329428\n",
      "min        30.000000\n",
      "25%        48.000000\n",
      "50%        66.000000\n",
      "75%        83.750000\n",
      "max       100.000000\n",
      "Name: HourlyRate, dtype: float64\n"
     ]
    }
   ],
   "source": [
    "### check data and data types\n",
    "print((df_base.columns))\n",
    "df_base.dtypes\n",
    "print(df_base.HourlyRate.describe())\n"
   ]
  },
  {
   "cell_type": "code",
   "execution_count": 86,
   "metadata": {},
   "outputs": [],
   "source": [
    "### data clean\n",
    "\n",
    "### turn age into a categorical variable\n",
    "### function pd qcut --> category\n",
    "\n",
    "df_base['age_range'] = pd.qcut(df_base['Age'], q=4, labels=['<=30', '>30 <=36', '>36 <=43', '>43'])\n",
    "df_base['HourlyRate_bin'] = pd.qcut(df_base['HourlyRate'], q=4,\n",
    "labels=['<=48','<=66','<=83.75','<=100'])\n",
    "\n",
    "### get column list\n",
    "def column_list():\n",
    "    columns_in_use = []\n",
    "    columns_drop = []\n",
    "    for i in range(0,len(df_base.columns)):\n",
    "        if df_base.dtypes[i] == 'O' or df_base.dtypes[i].name == 'category':\n",
    "            columns_in_use.append(df_base.columns[i])\n",
    "        else:\n",
    "            columns_drop.append(df_base.columns[i])\n",
    "    return columns_in_use,columns_drop\n",
    "\n",
    "### turn value to 0 or 1 if more than once (function)\n"
   ]
  },
  {
   "cell_type": "code",
   "execution_count": 90,
   "metadata": {},
   "outputs": [],
   "source": [
    "### run function & drop columns\n",
    "columns_in_use,columns_drop = column_list()\n",
    "df_model = df_base.drop(columns = columns_drop)"
   ]
  },
  {
   "cell_type": "code",
   "execution_count": 92,
   "metadata": {},
   "outputs": [],
   "source": [
    "### turn objects, categories to dummy variable \n",
    "### get_dummies function\n",
    "\n",
    "df_model = pd.get_dummies(df_model)\n"
   ]
  },
  {
   "cell_type": "markdown",
   "metadata": {},
   "source": [
    "### Apriori method \n",
    "\n",
    "- ```df``` (pandas DataFrame)\n",
    "- ```min_support```: float (minimum times the itmes returns), e.g. 0.05，5 out of 100 pattern occurs in the dataset\n",
    "- ```use_colnames```: bool(False), if ture, df use column names instead of column index\n",
    "- ```max_len```: int(None), maximum length of the itemsets generated\n",
    "- ```verbose```:int(0),shows the number of iterations\n",
    "- ```low memory```:bool(False),If True, uses an iterator to search for combinations above min_support. ***Note that while low_memory=True should only be used for large dataset if memory resources are limited, because this implementation is approx. 3-6x slower than the default.***\n",
    "\n",
    "### \n",
    "\n",
    "\n",
    "\n",
    "\n"
   ]
  },
  {
   "cell_type": "code",
   "execution_count": null,
   "metadata": {},
   "outputs": [],
   "source": [
    "def "
   ]
  }
 ],
 "metadata": {
  "kernelspec": {
   "display_name": "Python 3.7.3 ('base')",
   "language": "python",
   "name": "python3"
  },
  "language_info": {
   "codemirror_mode": {
    "name": "ipython",
    "version": 3
   },
   "file_extension": ".py",
   "mimetype": "text/x-python",
   "name": "python",
   "nbconvert_exporter": "python",
   "pygments_lexer": "ipython3",
   "version": "3.7.3"
  },
  "orig_nbformat": 4,
  "vscode": {
   "interpreter": {
    "hash": "47ab571c5d56d978d8507cb2e3ab9ca923aed8d701744665ef3787fb2205c3cc"
   }
  }
 },
 "nbformat": 4,
 "nbformat_minor": 2
}
