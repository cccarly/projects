{
 "cells": [
  {
   "cell_type": "markdown",
   "metadata": {},
   "source": [
    "### Yelp API usage\n",
    "- get own API key - https://www.yelp.com/developers/v3/manage_app\n",
    "- free account can only search 50 entities in a certain time period\n"
   ]
  },
  {
   "cell_type": "code",
   "execution_count": null,
   "metadata": {},
   "outputs": [],
   "source": [
    "### import packages\n",
    "\n",
    "import requests\n",
    "import json \n",
    "import numpy as np \n",
    "import pandas as pd"
   ]
  },
  {
   "cell_type": "code",
   "execution_count": null,
   "metadata": {},
   "outputs": [],
   "source": [
    "## zipcode to search \n",
    "zip_list = ['94538','94539','94540','95126','95127','95128','95129']\n",
    "api_key = \"xxxYOUR API keyxxx\"\n",
    "headers = {'Authorization':'Bearer %s' % api_key}"
   ]
  },
  {
   "cell_type": "code",
   "execution_count": null,
   "metadata": {},
   "outputs": [],
   "source": [
    "### search all results \n",
    "url = 'https://api.yelp.com/v3/businesses/search'\n",
    "\n",
    "def param_setting(zip):\n",
    "    params = {'term':['instagram','nice photo'], ## keyword is \"instagram worthy\"\n",
    "              'location':zip, ## location is the target zipcode\n",
    "              \"radius\":1600, ## 1600 meters--about 1 mile of a radius\n",
    "              'categories':'breakfast_brunch', ## category being brunch \n",
    "              'limit':50, ## return 50 results\n",
    "              \"sort_by\":\"best_match\"} ## sort by match\n",
    "for i in zip_list:\n",
    "    req=requests.get(url,params=param_setting(i),headers = headers)\n",
    "    if req.status_code == 200:\n",
    "        api_data = json.loads(req.text)\n",
    "        yield api_data\n",
    "## save results in generators "
   ]
  },
  {
   "cell_type": "code",
   "execution_count": null,
   "metadata": {},
   "outputs": [],
   "source": [
    "### JSON to dataframe \n",
    "## using array to save time ?\n",
    "\n"
   ]
  }
 ],
 "metadata": {
  "kernelspec": {
   "display_name": "Python 3.10.4 64-bit",
   "language": "python",
   "name": "python3"
  },
  "language_info": {
   "name": "python",
   "version": "3.10.4"
  },
  "orig_nbformat": 4,
  "vscode": {
   "interpreter": {
    "hash": "b1e7c881fea1a9e20c9b64abf1ec544df232a551a01c760921b81fd7cde78a75"
   }
  }
 },
 "nbformat": 4,
 "nbformat_minor": 2
}
