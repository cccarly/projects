{
 "cells": [
  {
   "cell_type": "markdown",
   "metadata": {},
   "source": [
    "#### Dictionary\n",
    "\n",
    "- definition: unordered, indexed and mutable data structures\n",
    "- "
   ]
  },
  {
   "cell_type": "code",
   "execution_count": null,
   "metadata": {},
   "outputs": [],
   "source": [
    "student = {'hiar':40359,'sjfo':59e85358}\n",
    "students2 = {'hiar':40359,'sjfo':59e85358,21:'Anna',22:'John'}\n",
    "## loop way to assign key and value by define values as dict\n",
    "values = {}\n",
    "values[2] = 0"
   ]
  },
  {
   "cell_type": "markdown",
   "metadata": {},
   "source": [
    "### frequent used methods \n",
    "\n",
    "- <view> = <dict>.keys()                          # Coll. of keys that reflects changes.\n",
    "- <view> = <dict>.values()                        # Coll. of values that reflects changes.\n",
    "- <view> = <dict>.items()                         # Coll. of key-value tuples that reflects chgs.\n",
    "- value  = <dict>.get(key, default=None)          # Returns default if key is missing.\n",
    "- value  = <dict>.setdefault(key, default=None)   # Returns and writes default if key is missing.\n",
    "- <dict> = collections.defaultdict(<type>)        # Returns a dict with default value of type.\n",
    "- <dict> = collections.defaultdict(lambda: 1)     # Returns a dict with default value 1.\n",
    "- <dict> = dict(<collection>)                     # Creates a dict from coll. of key-value pairs.\n",
    "- <dict> = dict(zip(keys, values))                # Creates a dict from two collections.\n",
    "- <dict> = dict.fromkeys(keys [, value])          # Creates a dict from collection of keys.\n",
    "- <dict>.update(<dict>)                           # Adds items. Replaces ones with matching keys.\n",
    "- value = <dict>.pop(key)                         # Removes item or raises KeyError.\n",
    "- {k for k, v in <dict>.items() if v == value}    # Returns set of keys that point to the value.\n",
    "- {k: v for k, v in <dict>.items() if k in keys}  # Returns a dictionary, filtered by keys."
   ]
  },
  {
   "cell_type": "markdown",
   "metadata": {},
   "source": [
    "####  Accessing items\n",
    "- Get, keys, values method,get value using []\n",
    "- ```get()```\n",
    "- if more values - ```dict_items.get(\"key\")[position]```"
   ]
  },
  {
   "cell_type": "code",
   "execution_count": 9,
   "metadata": {},
   "outputs": [
    {
     "name": "stdout",
     "output_type": "stream",
     "text": [
      "40359\n",
      "dict_keys(['hiar', 'sjfo'])\n",
      "dict_values([40359, inf])\n",
      "Anna\n"
     ]
    }
   ],
   "source": [
    "# key must be unique in the entire list \n",
    "# dictionaries does not support indexing , dict[index] doesn't work\n",
    "print(student.get('hiar'))\n",
    "print(student.keys())\n",
    "print(student.values())\n",
    "###[]barket works with key and get value\n",
    "### two ways to get value\n",
    "print(students2[21])\n",
    "print(student.get('hiar'))"
   ]
  },
  {
   "cell_type": "markdown",
   "metadata": {},
   "source": [
    "#### Leetcode two sum question\n",
    "\n",
    "- dict with ***two pointer*** method \n",
    "- set with sorted value can also solve the question\n",
    "- instead of nested loop : target - value = values"
   ]
  },
  {
   "cell_type": "code",
   "execution_count": 30,
   "metadata": {},
   "outputs": [
    {
     "name": "stdout",
     "output_type": "stream",
     "text": [
      "[0, 1]\n",
      "{2: 0}\n"
     ]
    }
   ],
   "source": [
    "values = {}\n",
    "nums = [2,7,11,15]\n",
    "target = 9\n",
    "### enumerate is index generation method\n",
    "### hashmap() function is another way\n",
    "def tow_sum():\n",
    "    for idx, value in enumerate(nums):\n",
    "        if target - value in values:\n",
    "            return [values[target - value], idx]\n",
    "        else:\n",
    "            values[value] = idx\n",
    "print(tow_sum())\n",
    "print(values)"
   ]
  },
  {
   "cell_type": "code",
   "execution_count": 38,
   "metadata": {},
   "outputs": [
    {
     "name": "stdout",
     "output_type": "stream",
     "text": [
      "{2: 0}\n"
     ]
    }
   ],
   "source": [
    "values = {}\n",
    "nums = [2,7,11,15]\n",
    "target = 9\n",
    "values[2] = 0\n",
    "\n",
    "print(values)\n",
    "        "
   ]
  },
  {
   "cell_type": "markdown",
   "metadata": {},
   "source": [
    "#### update list \n",
    "- update method\n"
   ]
  },
  {
   "cell_type": "code",
   "execution_count": 10,
   "metadata": {},
   "outputs": [
    {
     "name": "stdout",
     "output_type": "stream",
     "text": [
      "{123: 'Lia', 124: 'Dior', 'hiar': 40359, 'sjfo': inf, 21: 'Jason', 22: 'John', 23: 'Joe'}\n",
      "{'hiar': 40359, 'sjfo': inf, 21: 'Jason', 22: 'John', 23: 'Joe'}\n"
     ]
    }
   ],
   "source": [
    "### update value method\n",
    "### update key-value pair\n",
    "### update entire dict\n",
    "### if key matches, value changed, the dict will take the latest value in update\n",
    "students2.update({21:\"Jason\"})\n",
    "students2.update({23:\"Joe\"})\n",
    "sample ={123:\"Lia\",124:\"Dior\"}\n",
    "sample.update(students2)\n",
    "print(sample)\n",
    "print(students2)"
   ]
  },
  {
   "cell_type": "markdown",
   "metadata": {},
   "source": [
    "#### adding and removing items \n",
    "\n",
    "- add items with dict[\"key\"] = value \n",
    "- create dict with comphrehension dict: dict_com = {n:n**3 for n in range(20) if n % 2 != 0}\n",
    "- remove last item using ```popitem()```\n",
    "- remove item by its key name using ```pop()``` method \n",
    "- empty dict using ````clear()```\n",
    "- delete dict with ``` del dict()```"
   ]
  },
  {
   "cell_type": "code",
   "execution_count": 47,
   "metadata": {},
   "outputs": [
    {
     "name": "stdout",
     "output_type": "stream",
     "text": [
      "<class 'list'>\n",
      "<class 'float'>\n",
      "<class 'float'>\n",
      "<class 'float'>\n",
      "<class 'float'>\n",
      "<class 'float'>\n",
      "{'eggs': [3.99, 4.99, 5.5], 'cheese': 4.5, 'eggplant': 2.5, 'bread': 3.99}\n"
     ]
    }
   ],
   "source": [
    "grocery_items = {\"eggs\": [3.99, 4.99, 5.50],\n",
    "\"banana\": 1.49,\n",
    "\"cheese\": 4.5,\n",
    "\"eggplant\": 2.5,\n",
    "\"bread\": 3.99}\n",
    "\n",
    "grocery_items[\"onion\"] = 3.50\n",
    "\n",
    "#print(grocery_items.values())\n",
    "\n",
    "for i in grocery_items.values():\n",
    "    print(type(i))\n",
    "\n",
    "grocery_items.popitem()\n",
    "\n",
    "grocery_items.pop(\"banana\")\n",
    "\n",
    "print(grocery_items)\n",
    "\n"
   ]
  },
  {
   "cell_type": "markdown",
   "metadata": {},
   "source": [
    "#### dict for loop and dict comprehension\n",
    "\n",
    "- how to assign key and value at the same time\n",
    "- O(n) time complexity\n",
    "  - avoid nested loop by using list \n",
    "\n",
    "- efficiency : dict comprehension >= dict loop > nested loop \n",
    "- loop with dict.keys()\n",
    "- comprehension dict to turn values into list - ``` [x for x in dict.values()]```\n",
    "  \n",
    "  "
   ]
  },
  {
   "cell_type": "code",
   "execution_count": 23,
   "metadata": {},
   "outputs": [
    {
     "name": "stdout",
     "output_type": "stream",
     "text": [
      "CPU times: user 2 µs, sys: 1 µs, total: 3 µs\n",
      "Wall time: 5.72 µs\n",
      "{1: 1, 3: 27, 5: 125, 7: 343, 9: 729, 11: 1331, 13: 2197, 15: 3375, 17: 4913, 19: 6859}\n"
     ]
    }
   ],
   "source": [
    "### dictionary comprehension\n",
    "%time\n",
    "###{1:1,2:8,3:27,4:64}\n",
    "numbers = range(20)\n",
    "### create an empty list \n",
    "loop_dict = {}\n",
    "for i in numbers:\n",
    "    if i % 2 !=0:\n",
    "    #key == value\n",
    "      loop_dict[i] = i**3\n",
    "\n",
    "\n",
    "print(loop_dict)"
   ]
  },
  {
   "cell_type": "code",
   "execution_count": 24,
   "metadata": {},
   "outputs": [
    {
     "name": "stdout",
     "output_type": "stream",
     "text": [
      "CPU times: user 2 µs, sys: 0 ns, total: 2 µs\n",
      "Wall time: 5.25 µs\n"
     ]
    }
   ],
   "source": [
    "###\n",
    "%time\n",
    "#numbers = range(10)\n",
    "## expression for member is iterable {n:n**3 for n in rang(10)}\n",
    "## with single condition \n",
    "dict_com = {n:n**3 for n in range(20) if n % 2 != 0}\n"
   ]
  },
  {
   "cell_type": "code",
   "execution_count": 35,
   "metadata": {},
   "outputs": [
    {
     "name": "stdout",
     "output_type": "stream",
     "text": [
      "CPU times: user 2 µs, sys: 1e+03 ns, total: 3 µs\n",
      "Wall time: 3.81 µs\n",
      "{'a': 1, 'b': 2, 'c': 3, 'd': 4}\n"
     ]
    }
   ],
   "source": [
    "## with multiple condition \n",
    "%time \n",
    "dict = {'a':1,'b':2,'c':3,'d':4}\n",
    "\n",
    "odd_even = {k:v for (k,v) in dict.items()}\n",
    "print(odd_even)"
   ]
  },
  {
   "cell_type": "code",
   "execution_count": 36,
   "metadata": {},
   "outputs": [],
   "source": [
    "### get when value is even\n",
    "odd_even_2 = {k:('even' if v % 2 == 0 else 'odd') for (k,v) in dict.items()}"
   ]
  },
  {
   "cell_type": "code",
   "execution_count": 40,
   "metadata": {},
   "outputs": [
    {
     "name": "stdout",
     "output_type": "stream",
     "text": [
      "{'first': {'a': 1}, 'second': {'b': 2}}\n"
     ]
    }
   ],
   "source": [
    "### dictionary comprehension on nested dictionary \n",
    "## collection of two or more dictionaries \n",
    "nested_dict = {'first':{'a':1},'second':{'b':2}}\n",
    "nested_dict_comp = {k:v for (k,v) in nested_dict.items()}\n",
    "print(nested_dict_comp)"
   ]
  },
  {
   "cell_type": "code",
   "execution_count": 41,
   "metadata": {},
   "outputs": [],
   "source": [
    "### sort value in dict \n",
    "\n",
    "countrypopulation = {'usa':328_200_000,'France':67_000_000,'China':1_393_000_000}"
   ]
  },
  {
   "cell_type": "code",
   "execution_count": 47,
   "metadata": {},
   "outputs": [
    {
     "data": {
      "text/plain": [
       "dict_items([('usa', 328200000), ('France', 67000000), ('China', 1393000000)])"
      ]
     },
     "execution_count": 47,
     "metadata": {},
     "output_type": "execute_result"
    }
   ],
   "source": [
    "countrypopulation.items()"
   ]
  },
  {
   "cell_type": "code",
   "execution_count": 44,
   "metadata": {},
   "outputs": [
    {
     "name": "stdout",
     "output_type": "stream",
     "text": [
      "[('China', 1393000000), ('France', 67000000), ('usa', 328200000)]\n"
     ]
    }
   ],
   "source": [
    "## output would be the list with 3 tuples \n",
    "print(sorted(countrypopulation.items()))"
   ]
  },
  {
   "cell_type": "code",
   "execution_count": 58,
   "metadata": {},
   "outputs": [],
   "source": [
    "## method sort by key \n",
    "## remove key doesn't work in this case \n",
    "sort_dict_key = {k:v for (k,v) in sorted(countrypopulation.items())}"
   ]
  },
  {
   "cell_type": "code",
   "execution_count": 65,
   "metadata": {},
   "outputs": [],
   "source": [
    "### sorted(iterable,key = key, reverse = reverse)\n",
    "### ascending order is default, reverse = False \n",
    "sort_dict_value = {k:v for (k,v) in sorted(countrypopulation.items(),key= lambda v:v[1],reverse = False)}"
   ]
  },
  {
   "cell_type": "code",
   "execution_count": 66,
   "metadata": {},
   "outputs": [
    {
     "data": {
      "text/plain": [
       "{'France': 67000000, 'usa': 328200000, 'China': 1393000000}"
      ]
     },
     "execution_count": 66,
     "metadata": {},
     "output_type": "execute_result"
    }
   ],
   "source": [
    "sort_dict_value"
   ]
  },
  {
   "cell_type": "markdown",
   "metadata": {},
   "source": [
    "#### other method \n",
    "\n",
    "- get number of items: ```len(dict)```\n",
    "- cast dict to a list: ```list(dict)```\n",
    "- whether a key exists and returns boolean: \n",
    "   ``` \"key\" in dict```\n",
    "- zip with two collection (list)\n",
    "\n"
   ]
  },
  {
   "cell_type": "code",
   "execution_count": 2,
   "metadata": {},
   "outputs": [],
   "source": [
    "dict = {'tophat':2,'bowtie':4,'monocle':5}"
   ]
  },
  {
   "cell_type": "code",
   "execution_count": 9,
   "metadata": {},
   "outputs": [
    {
     "name": "stdout",
     "output_type": "stream",
     "text": [
      "11\n",
      "11\n"
     ]
    }
   ],
   "source": [
    "### sum dict \n",
    "print(dict['tophat']+dict['bowtie']+dict['monocle'])\n",
    "print(sum(dict.values()))"
   ]
  },
  {
   "cell_type": "code",
   "execution_count": 48,
   "metadata": {},
   "outputs": [
    {
     "name": "stdout",
     "output_type": "stream",
     "text": [
      "{1: 'Tom', 2: 'Macy', 3: 'Sam'}\n"
     ]
    }
   ],
   "source": [
    "employees = dict(zip([1, 2, 3], ['Tom', 'Macy', 'Sam']))\n",
    "print(employees) # Output: {1: 'Tom', 2: 'Macy', 3: 'Sam'}"
   ]
  },
  {
   "cell_type": "code",
   "execution_count": null,
   "metadata": {},
   "outputs": [],
   "source": []
  }
 ],
 "metadata": {
  "kernelspec": {
   "display_name": "Python 3.7.3 ('base')",
   "language": "python",
   "name": "python3"
  },
  "language_info": {
   "codemirror_mode": {
    "name": "ipython",
    "version": 3
   },
   "file_extension": ".py",
   "mimetype": "text/x-python",
   "name": "python",
   "nbconvert_exporter": "python",
   "pygments_lexer": "ipython3",
   "version": "3.7.3"
  },
  "vscode": {
   "interpreter": {
    "hash": "47ab571c5d56d978d8507cb2e3ab9ca923aed8d701744665ef3787fb2205c3cc"
   }
  }
 },
 "nbformat": 4,
 "nbformat_minor": 2
}
