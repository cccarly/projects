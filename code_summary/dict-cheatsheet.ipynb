{
 "cells": [
  {
   "cell_type": "code",
   "execution_count": 6,
   "metadata": {},
   "outputs": [],
   "source": [
    "student = {'hiar':40359,'sjfo':59e85358}\n",
    "students2 = {'hiar':40359,'sjfo':59e85358,21:'Anna',22:'John'}"
   ]
  },
  {
   "cell_type": "code",
   "execution_count": 9,
   "metadata": {},
   "outputs": [
    {
     "name": "stdout",
     "output_type": "stream",
     "text": [
      "40359\n",
      "dict_keys(['hiar', 'sjfo'])\n",
      "dict_values([40359, inf])\n",
      "Anna\n"
     ]
    }
   ],
   "source": [
    "# key must be unique in the entire list \n",
    "# dictionaries does not support indexing , dict[index] doesn't work\n",
    "print(student.get('hiar'))\n",
    "print(student.keys())\n",
    "print(student.values())\n",
    "###[]barket works with key and get value\n",
    "print(students2[21])"
   ]
  },
  {
   "cell_type": "code",
   "execution_count": 10,
   "metadata": {},
   "outputs": [
    {
     "name": "stdout",
     "output_type": "stream",
     "text": [
      "{123: 'Lia', 124: 'Dior', 'hiar': 40359, 'sjfo': inf, 21: 'Jason', 22: 'John', 23: 'Joe'}\n",
      "{'hiar': 40359, 'sjfo': inf, 21: 'Jason', 22: 'John', 23: 'Joe'}\n"
     ]
    }
   ],
   "source": [
    "### update value method\n",
    "### update key-value pair\n",
    "### update entire dict\n",
    "### if key matches, value changed, the dict will take the latest value in update\n",
    "students2.update({21:\"Jason\"})\n",
    "students2.update({23:\"Joe\"})\n",
    "sample ={123:\"Lia\",124:\"Dior\"}\n",
    "sample.update(students2)\n",
    "print(sample)\n",
    "print(students2)"
   ]
  },
  {
   "cell_type": "code",
   "execution_count": 32,
   "metadata": {},
   "outputs": [
    {
     "name": "stdout",
     "output_type": "stream",
     "text": [
      "CPU times: user 2 µs, sys: 1 µs, total: 3 µs\n",
      "Wall time: 4.77 µs\n"
     ]
    }
   ],
   "source": [
    "### dictionary comprehension\n",
    "%time\n",
    "###{1:1,2:8,3:27,4:64}\n",
    "numbers = range(20)\n",
    "### create an empty list \n",
    "loop_dict = {}\n",
    "for i in numbers:\n",
    "    if i % 2 !=0:\n",
    "    #key == value\n",
    "      loop_dict[i] = i**3\n"
   ]
  },
  {
   "cell_type": "code",
   "execution_count": 26,
   "metadata": {
    "scrolled": true
   },
   "outputs": [
    {
     "data": {
      "text/plain": [
       "{0: 0, 1: 1, 2: 8, 3: 27, 4: 64, 5: 125, 6: 216, 7: 343, 8: 512, 9: 729}"
      ]
     },
     "execution_count": 26,
     "metadata": {},
     "output_type": "execute_result"
    }
   ],
   "source": [
    "loop_dict"
   ]
  },
  {
   "cell_type": "code",
   "execution_count": 34,
   "metadata": {},
   "outputs": [
    {
     "name": "stdout",
     "output_type": "stream",
     "text": [
      "CPU times: user 3 µs, sys: 0 ns, total: 3 µs\n",
      "Wall time: 4.77 µs\n"
     ]
    }
   ],
   "source": [
    "###\n",
    "%time\n",
    "#numbers = range(10)\n",
    "## expression for member is iterable {n:n**3 for n in rang(10)}\n",
    "## with single condition \n",
    "dict_com = {n:n**3 for n in range(20) if n % 2 != 0}\n"
   ]
  },
  {
   "cell_type": "code",
   "execution_count": 35,
   "metadata": {},
   "outputs": [
    {
     "name": "stdout",
     "output_type": "stream",
     "text": [
      "CPU times: user 2 µs, sys: 1e+03 ns, total: 3 µs\n",
      "Wall time: 3.81 µs\n",
      "{'a': 1, 'b': 2, 'c': 3, 'd': 4}\n"
     ]
    }
   ],
   "source": [
    "## with multiple condition \n",
    "%time \n",
    "dict = {'a':1,'b':2,'c':3,'d':4}\n",
    "\n",
    "odd_even = {k:v for (k,v) in dict.items()}\n",
    "print(odd_even)"
   ]
  },
  {
   "cell_type": "code",
   "execution_count": 36,
   "metadata": {},
   "outputs": [],
   "source": [
    "### get when value is even\n",
    "odd_even_2 = {k:('even' if v % 2 == 0 else 'odd') for (k,v) in dict.items()}"
   ]
  },
  {
   "cell_type": "code",
   "execution_count": 37,
   "metadata": {},
   "outputs": [
    {
     "data": {
      "text/plain": [
       "{'a': 'odd', 'b': 'even', 'c': 'odd', 'd': 'even'}"
      ]
     },
     "execution_count": 37,
     "metadata": {},
     "output_type": "execute_result"
    }
   ],
   "source": [
    "odd_even_2"
   ]
  },
  {
   "cell_type": "code",
   "execution_count": 40,
   "metadata": {},
   "outputs": [
    {
     "name": "stdout",
     "output_type": "stream",
     "text": [
      "{'first': {'a': 1}, 'second': {'b': 2}}\n"
     ]
    }
   ],
   "source": [
    "### dictionary comprehension on nested dictionary \n",
    "## collection of two or more dictionaries \n",
    "nested_dict = {'first':{'a':1},'second':{'b':2}}\n",
    "nested_dict_comp = {k:v for (k,v) in nested_dict.items()}\n",
    "print(nested_dict_comp)"
   ]
  },
  {
   "cell_type": "code",
   "execution_count": 41,
   "metadata": {},
   "outputs": [],
   "source": [
    "### sort value in dict \n",
    "\n",
    "countrypopulation = {'usa':328_200_000,'France':67_000_000,'China':1_393_000_000}"
   ]
  },
  {
   "cell_type": "code",
   "execution_count": 47,
   "metadata": {},
   "outputs": [
    {
     "data": {
      "text/plain": [
       "dict_items([('usa', 328200000), ('France', 67000000), ('China', 1393000000)])"
      ]
     },
     "execution_count": 47,
     "metadata": {},
     "output_type": "execute_result"
    }
   ],
   "source": [
    "countrypopulation.items()"
   ]
  },
  {
   "cell_type": "code",
   "execution_count": 44,
   "metadata": {},
   "outputs": [
    {
     "name": "stdout",
     "output_type": "stream",
     "text": [
      "[('China', 1393000000), ('France', 67000000), ('usa', 328200000)]\n"
     ]
    }
   ],
   "source": [
    "## output would be the list with 3 tuples \n",
    "print(sorted(countrypopulation.items()))"
   ]
  },
  {
   "cell_type": "code",
   "execution_count": 58,
   "metadata": {},
   "outputs": [],
   "source": [
    "## method sort by key \n",
    "## remove key doesn't work in this case \n",
    "sort_dict_key = {k:v for (k,v) in sorted(countrypopulation.items())}"
   ]
  },
  {
   "cell_type": "code",
   "execution_count": 65,
   "metadata": {},
   "outputs": [],
   "source": [
    "### sorted(iterable,key = key, reverse = reverse)\n",
    "### ascending order is default, reverse = False \n",
    "sort_dict_value = {k:v for (k,v) in sorted(countrypopulation.items(),key= lambda v:v[1],reverse = False)}"
   ]
  },
  {
   "cell_type": "code",
   "execution_count": 66,
   "metadata": {},
   "outputs": [
    {
     "data": {
      "text/plain": [
       "{'France': 67000000, 'usa': 328200000, 'China': 1393000000}"
      ]
     },
     "execution_count": 66,
     "metadata": {},
     "output_type": "execute_result"
    }
   ],
   "source": [
    "sort_dict_value"
   ]
  },
  {
   "cell_type": "code",
   "execution_count": 2,
   "metadata": {},
   "outputs": [],
   "source": [
    "dict = {'tophat':2,'bowtie':4,'monocle':5}"
   ]
  },
  {
   "cell_type": "code",
   "execution_count": 9,
   "metadata": {},
   "outputs": [
    {
     "name": "stdout",
     "output_type": "stream",
     "text": [
      "11\n",
      "11\n"
     ]
    }
   ],
   "source": [
    "### sum dict \n",
    "print(dict['tophat']+dict['bowtie']+dict['monocle'])\n",
    "print(sum(dict.values()))"
   ]
  }
 ],
 "metadata": {
  "kernelspec": {
   "display_name": "Python 3.7.3 ('base')",
   "language": "python",
   "name": "python3"
  },
  "language_info": {
   "codemirror_mode": {
    "name": "ipython",
    "version": 3
   },
   "file_extension": ".py",
   "mimetype": "text/x-python",
   "name": "python",
   "nbconvert_exporter": "python",
   "pygments_lexer": "ipython3",
   "version": "3.7.3"
  },
  "vscode": {
   "interpreter": {
    "hash": "47ab571c5d56d978d8507cb2e3ab9ca923aed8d701744665ef3787fb2205c3cc"
   }
  }
 },
 "nbformat": 4,
 "nbformat_minor": 2
}
